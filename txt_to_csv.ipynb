{
  "nbformat": 4,
  "nbformat_minor": 0,
  "metadata": {
    "colab": {
      "name": "txt to csv.ipynb",
      "provenance": [],
      "mount_file_id": "1j0R_ZYomqEuwFdKlY2OMJBMHQmwDKe-Y",
      "authorship_tag": "ABX9TyPBh1TfpfeedD4eYU+MTP1m",
      "include_colab_link": true
    },
    "kernelspec": {
      "name": "python3",
      "display_name": "Python 3"
    },
    "language_info": {
      "name": "python"
    }
  },
  "cells": [
    {
      "cell_type": "markdown",
      "metadata": {
        "id": "view-in-github",
        "colab_type": "text"
      },
      "source": [
        "<a href=\"https://colab.research.google.com/github/Karikiri/Federated-Learning-PyTorch/blob/master/txt_to_csv.ipynb\" target=\"_parent\"><img src=\"https://colab.research.google.com/assets/colab-badge.svg\" alt=\"Open In Colab\"/></a>"
      ]
    },
    {
      "cell_type": "code",
      "execution_count": null,
      "metadata": {
        "id": "NsdTn6Nw0476"
      },
      "outputs": [],
      "source": [
        "import os\n",
        "import pandas\n",
        "\n"
      ]
    },
    {
      "cell_type": "code",
      "source": [
        "# assign directory\n",
        "directory = '/content/drive/MyDrive/Benford/CAN signal extraction and translation dataset'\n",
        "out_dir = '/content/drive/MyDrive/Benford/CAN signal CSV/'\n",
        " \n",
        "# iterate over files in\n",
        "# that directory\n",
        "for filename in os.listdir(directory):\n",
        "    f = os.path.join(directory, filename)\n",
        "    # checking if it is a file\n",
        "    if os.path.isfile(f):\n",
        "        dataframe = pandas.read_csv(f,delimiter=\"\\t\")\n",
        "        out_file = out_dir + filename.replace('.txt','.csv')\n",
        "        print(out_file)\n",
        "        dataframe.to_csv(out_file, encoding='utf-8', index=False)"
      ],
      "metadata": {
        "colab": {
          "base_uri": "https://localhost:8080/"
        },
        "id": "1awfnTAU06VP",
        "outputId": "69cf93f7-786a-4188-8d47-ab1d891d892a"
      },
      "execution_count": null,
      "outputs": [
        {
          "output_type": "stream",
          "name": "stdout",
          "text": [
            "/content/drive/MyDrive/Benford/CAN signal CSV/47_candump.csv\n",
            "/content/drive/MyDrive/Benford/CAN signal CSV/46_candump.csv\n",
            "/content/drive/MyDrive/Benford/CAN signal CSV/0E_candump.csv\n",
            "/content/drive/MyDrive/Benford/CAN signal CSV/0D_candump.csv\n",
            "/content/drive/MyDrive/Benford/CAN signal CSV/0C_candump.csv\n",
            "/content/drive/MyDrive/Benford/CAN signal CSV/0B_candump.csv\n",
            "/content/drive/MyDrive/Benford/CAN signal CSV/56_candump.csv\n",
            "/content/drive/MyDrive/Benford/CAN signal CSV/55_candump.csv\n",
            "/content/drive/MyDrive/Benford/CAN signal CSV/49_candump.csv\n",
            "/content/drive/MyDrive/Benford/CAN signal CSV/03_candump.csv\n",
            "/content/drive/MyDrive/Benford/CAN signal CSV/04_candump.csv\n",
            "/content/drive/MyDrive/Benford/CAN signal CSV/05_candump.csv\n",
            "/content/drive/MyDrive/Benford/CAN signal CSV/06_candump.csv\n",
            "/content/drive/MyDrive/Benford/CAN signal CSV/07_candump.csv\n",
            "/content/drive/MyDrive/Benford/CAN signal CSV/0F_candump.csv\n",
            "/content/drive/MyDrive/Benford/CAN signal CSV/11_candump.csv\n",
            "/content/drive/MyDrive/Benford/CAN signal CSV/13_candump.csv\n",
            "/content/drive/MyDrive/Benford/CAN signal CSV/15_candump.csv\n",
            "/content/drive/MyDrive/Benford/CAN signal CSV/1C_candump.csv\n",
            "/content/drive/MyDrive/Benford/CAN signal CSV/1F_candump.csv\n",
            "/content/drive/MyDrive/Benford/CAN signal CSV/21_candump.csv\n",
            "/content/drive/MyDrive/Benford/CAN signal CSV/2E_candump.csv\n",
            "/content/drive/MyDrive/Benford/CAN signal CSV/2F_candump.csv\n",
            "/content/drive/MyDrive/Benford/CAN signal CSV/30_candump.csv\n",
            "/content/drive/MyDrive/Benford/CAN signal CSV/31_candump.csv\n",
            "/content/drive/MyDrive/Benford/CAN signal CSV/32_candump.csv\n",
            "/content/drive/MyDrive/Benford/CAN signal CSV/33_candump.csv\n",
            "/content/drive/MyDrive/Benford/CAN signal CSV/34_candump.csv\n",
            "/content/drive/MyDrive/Benford/CAN signal CSV/3C_candump.csv\n",
            "/content/drive/MyDrive/Benford/CAN signal CSV/3E_candump.csv\n",
            "/content/drive/MyDrive/Benford/CAN signal CSV/41_candump.csv\n",
            "/content/drive/MyDrive/Benford/CAN signal CSV/42_candump.csv\n",
            "/content/drive/MyDrive/Benford/CAN signal CSV/43_candump.csv\n",
            "/content/drive/MyDrive/Benford/CAN signal CSV/44_candump.csv\n",
            "/content/drive/MyDrive/Benford/CAN signal CSV/45_candump.csv\n",
            "/content/drive/MyDrive/Benford/CAN signal CSV/4A_candump.csv\n",
            "/content/drive/MyDrive/Benford/CAN signal CSV/4C_candump.csv\n",
            "/content/drive/MyDrive/Benford/CAN signal CSV/4D_candump.csv\n",
            "/content/drive/MyDrive/Benford/CAN signal CSV/4E_candump.csv\n",
            "/content/drive/MyDrive/Benford/CAN signal CSV/01_candump.csv\n"
          ]
        }
      ]
    },
    {
      "cell_type": "code",
      "source": [
        "# Data Preprocessing - Remove OBD broadcasting\n",
        "\n"
      ],
      "metadata": {
        "id": "koXA1p3E06Z8"
      },
      "execution_count": null,
      "outputs": []
    },
    {
      "cell_type": "code",
      "source": [
        ""
      ],
      "metadata": {
        "id": "QE6_rTtJ19aQ"
      },
      "execution_count": null,
      "outputs": []
    },
    {
      "cell_type": "code",
      "source": [
        ""
      ],
      "metadata": {
        "id": "ZrbqIVdh19cr"
      },
      "execution_count": null,
      "outputs": []
    },
    {
      "cell_type": "code",
      "source": [
        ""
      ],
      "metadata": {
        "id": "2t4xloqz19fE"
      },
      "execution_count": null,
      "outputs": []
    },
    {
      "cell_type": "code",
      "source": [
        ""
      ],
      "metadata": {
        "id": "geMrEgxd06cH"
      },
      "execution_count": null,
      "outputs": []
    }
  ]
}